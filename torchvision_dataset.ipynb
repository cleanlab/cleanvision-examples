{
 "cells": [
  {
   "cell_type": "markdown",
   "id": "058b95d9",
   "metadata": {},
   "source": [
    "# Run CleanVision on Torchvision dataset"
   ]
  },
  {
   "cell_type": "markdown",
   "id": "a9248629",
   "metadata": {},
   "source": [
    "[![Open In Colab](https://colab.research.google.com/assets/colab-badge.svg)](https://colab.research.google.com/github/cleanlab/cleanvision-examples/blob/main/torchvision_dataset.ipynb) "
   ]
  },
  {
   "cell_type": "code",
   "execution_count": null,
   "id": "0066cfe8",
   "metadata": {
    "nbsphinx": "hidden",
    "tags": []
   },
   "outputs": [],
   "source": [
    "!pip install -U pip\n",
    "!pip install \"cleanvision[pytorch] @ git+https://github.com/cleanlab/cleanvision.git\""
   ]
  },
  {
   "cell_type": "markdown",
   "id": "a7aaca99",
   "metadata": {
    "tags": []
   },
   "source": [
    "**After you install these packages, you may need to restart your notebook runtime before running the rest of this notebook.**"
   ]
  },
  {
   "cell_type": "code",
   "execution_count": 2,
   "id": "b605e21f",
   "metadata": {},
   "outputs": [],
   "source": [
    "from torchvision.datasets import CIFAR10\n",
    "from torch.utils.data import ConcatDataset\n",
    "from cleanvision.imagelab import Imagelab"
   ]
  },
  {
   "cell_type": "markdown",
   "id": "6b777a46",
   "metadata": {},
   "source": [
    "### 1. Download dataset and concatenate all splits\n",
    "\n",
    "Since we're interested in generally understanding what issues plague our data, we merge the training and test sets into one larger dataset before running CleanVision. You could alternatively just run the package on these two sets of data separately to obtain two different reports.\n",
    "\n",
    "[CIFAR10](https://www.cs.toronto.edu/~kriz/cifar.html) is classification dataset, but CleanVision can be used to audit images from any type of dataset (including supervised or unsupervised learning).\n",
    "\n",
    "Load all splits of the CIFAR10 dataset"
   ]
  },
  {
   "cell_type": "code",
   "execution_count": 3,
   "id": "3d207006",
   "metadata": {},
   "outputs": [
    {
     "name": "stdout",
     "output_type": "stream",
     "text": [
      "Files already downloaded and verified\n",
      "Files already downloaded and verified\n"
     ]
    }
   ],
   "source": [
    "train_set = CIFAR10(root=\"./\", download=True)\n",
    "test_set = CIFAR10(root=\"./\", train=False, download=True)"
   ]
  },
  {
   "cell_type": "markdown",
   "id": "6f25425d",
   "metadata": {
    "tags": []
   },
   "source": [
    "Concatenate train and test splits"
   ]
  },
  {
   "cell_type": "code",
   "execution_count": 4,
   "id": "c099c758",
   "metadata": {},
   "outputs": [],
   "source": [
    "dataset = ConcatDataset([train_set, test_set])"
   ]
  },
  {
   "cell_type": "markdown",
   "id": "d8dd1a5b",
   "metadata": {
    "tags": []
   },
   "source": [
    "A sample from the dataset"
   ]
  },
  {
   "cell_type": "code",
   "execution_count": 5,
   "id": "245fe0d4",
   "metadata": {},
   "outputs": [
    {
     "data": {
      "text/plain": [
       "(<PIL.Image.Image image mode=RGB size=32x32>, 6)"
      ]
     },
     "execution_count": 5,
     "metadata": {},
     "output_type": "execute_result"
    }
   ],
   "source": [
    "dataset[0]"
   ]
  },
  {
   "cell_type": "markdown",
   "id": "004f6288",
   "metadata": {},
   "source": [
    "Let's look at the first image in this dataset"
   ]
  },
  {
   "cell_type": "code",
   "execution_count": 6,
   "id": "c7e75294",
   "metadata": {},
   "outputs": [
    {
     "data": {
      "image/png": "[encoded data removed]",
      "text/plain": [
       "<PIL.Image.Image image mode=RGB size=32x32>"
      ]
     },
     "execution_count": 6,
     "metadata": {},
     "output_type": "execute_result"
    }
   ],
   "source": [
    "dataset[0][0]"
   ]
  },
  {
   "cell_type": "markdown",
   "id": "f8581a6d",
   "metadata": {},
   "source": [
    "### 2. Run CleanVision"
   ]
  },
  {
   "cell_type": "code",
   "execution_count": 7,
   "id": "09c6440d",
   "metadata": {},
   "outputs": [],
   "source": [
    "imagelab = Imagelab(torchvision_dataset=dataset)"
   ]
  },
  {
   "cell_type": "code",
   "execution_count": 8,
   "id": "02a34a0a",
   "metadata": {},
   "outputs": [
    {
     "name": "stdout",
     "output_type": "stream",
     "text": [
      "Checking for dark, light, odd_aspect_ratio, low_information, exact_duplicates, near_duplicates, blurry, grayscale images ...\n"
     ]
    },
    {
     "name": "stderr",
     "output_type": "stream",
     "text": [
      "100%|█████████████████████████████████████████████████████████████████████████████████████████████████████████████████████████████████████████████████████████████████████████████████████████████████| 60000/60000 [00:34<00:00, 1748.26it/s]\n",
      "100%|█████████████████████████████████████████████████████████████████████████████████████████████████████████████████████████████████████████████████████████████████████████████████████████████████| 60000/60000 [00:14<00:00, 4026.17it/s]\n"
     ]
    },
    {
     "name": "stdout",
     "output_type": "stream",
     "text": [
      "Issue checks completed. To see a detailed report of issues found, use imagelab.report().\n"
     ]
    }
   ],
   "source": [
    "imagelab.find_issues()"
   ]
  },
  {
   "cell_type": "markdown",
   "id": "19b16779",
   "metadata": {
    "tags": []
   },
   "source": [
    "### 3. View Results\n",
    "\n",
    "Get a report of all the issues found"
   ]
  },
  {
   "cell_type": "code",
   "execution_count": 9,
   "id": "4e120feb",
   "metadata": {},
   "outputs": [
    {
     "name": "stdout",
     "output_type": "stream",
     "text": [
      "Issues found in order of severity in the dataset\n",
      "\n",
      "|    | issue_type      |   num_images |\n",
      "|---:|:----------------|-------------:|\n",
      "|  0 | near_duplicates |           40 |\n",
      "|  1 | dark            |           29 |\n",
      "|  2 | light           |            3 |\n",
      "|  3 | low_information |            1 | \n",
      "\n",
      "\n",
      "Top 4 sets of images with near_duplicates issue\n",
      "Set: 0\n"
     ]
    },
    {
     "data": {
      "image/png": "[encoded data removed]",
      "text/plain": [
       "<Figure size 400x200 with 2 Axes>"
      ]
     },
     "metadata": {},
     "output_type": "display_data"
    },
    {
     "name": "stdout",
     "output_type": "stream",
     "text": [
      "Set: 1\n"
     ]
    },
    {
     "data": {
      "image/png": "[encoded data removed]",
      "text/plain": [
       "<Figure size 400x200 with 2 Axes>"
      ]
     },
     "metadata": {},
     "output_type": "display_data"
    },
    {
     "name": "stdout",
     "output_type": "stream",
     "text": [
      "Set: 2\n"
     ]
    },
    {
     "data": {
      "image/png": "[encoded data removed]",
      "text/plain": [
       "<Figure size 400x200 with 2 Axes>"
      ]
     },
     "metadata": {},
     "output_type": "display_data"
    },
    {
     "name": "stdout",
     "output_type": "stream",
     "text": [
      "Set: 3\n"
     ]
    },
    {
     "data": {
      "image/png": "[encoded data removed]",
      "text/plain": [
       "<Figure size 400x200 with 2 Axes>"
      ]
     },
     "metadata": {},
     "output_type": "display_data"
    },
    {
     "name": "stdout",
     "output_type": "stream",
     "text": [
      "\n",
      "Top 4 examples with dark issue in the dataset.\n"
     ]
    },
    {
     "data": {
      "image/png": "[encoded data removed]",
      "text/plain": [
       "<Figure size 800x200 with 4 Axes>"
      ]
     },
     "metadata": {},
     "output_type": "display_data"
    },
    {
     "name": "stdout",
     "output_type": "stream",
     "text": [
      "Found 3 examples with light issue in the dataset.\n"
     ]
    },
    {
     "data": {
      "image/png": "[encoded data removed]",
      "text/plain": [
       "<Figure size 600x200 with 3 Axes>"
      ]
     },
     "metadata": {},
     "output_type": "display_data"
    },
    {
     "name": "stdout",
     "output_type": "stream",
     "text": [
      "Found 1 example with low_information issue in the dataset.\n"
     ]
    },
    {
     "data": {
      "image/png": "[encoded data removed]",
      "text/plain": [
       "<Figure size 200x200 with 1 Axes>"
      ]
     },
     "metadata": {},
     "output_type": "display_data"
    }
   ],
   "source": [
    "imagelab.report()"
   ]
  },
  {
   "cell_type": "markdown",
   "id": "782642ad",
   "metadata": {},
   "source": [
    "View more information about each image, such as what types of issues it exhibits and its quality score with respect to each type of issue."
   ]
  },
  {
   "cell_type": "code",
   "execution_count": 10,
   "id": "d23cc881",
   "metadata": {},
   "outputs": [
    {
     "data": {
      "text/html": [
       "<div>\n",
       "<style scoped>\n",
       "    .dataframe tbody tr th:only-of-type {\n",
       "        vertical-align: middle;\n",
       "    }\n",
       "\n",
       "    .dataframe tbody tr th {\n",
       "        vertical-align: top;\n",
       "    }\n",
       "\n",
       "    .dataframe thead th {\n",
       "        text-align: right;\n",
       "    }\n",
       "</style>\n",
       "<table border=\"1\" class=\"dataframe\">\n",
       "  <thead>\n",
       "    <tr style=\"text-align: right;\">\n",
       "      <th></th>\n",
       "      <th>odd_aspect_ratio_score</th>\n",
       "      <th>is_odd_aspect_ratio_issue</th>\n",
       "      <th>low_information_score</th>\n",
       "      <th>is_low_information_issue</th>\n",
       "      <th>light_score</th>\n",
       "      <th>is_light_issue</th>\n",
       "      <th>grayscale_score</th>\n",
       "      <th>is_grayscale_issue</th>\n",
       "      <th>dark_score</th>\n",
       "      <th>is_dark_issue</th>\n",
       "      <th>blurry_score</th>\n",
       "      <th>is_blurry_issue</th>\n",
       "      <th>is_exact_duplicates_issue</th>\n",
       "      <th>is_near_duplicates_issue</th>\n",
       "    </tr>\n",
       "  </thead>\n",
       "  <tbody>\n",
       "    <tr>\n",
       "      <th>0</th>\n",
       "      <td>1.0</td>\n",
       "      <td>False</td>\n",
       "      <td>0.854301</td>\n",
       "      <td>False</td>\n",
       "      <td>0.797130</td>\n",
       "      <td>False</td>\n",
       "      <td>1</td>\n",
       "      <td>False</td>\n",
       "      <td>0.915605</td>\n",
       "      <td>False</td>\n",
       "      <td>0.484206</td>\n",
       "      <td>False</td>\n",
       "      <td>False</td>\n",
       "      <td>False</td>\n",
       "    </tr>\n",
       "    <tr>\n",
       "      <th>1</th>\n",
       "      <td>1.0</td>\n",
       "      <td>False</td>\n",
       "      <td>0.926223</td>\n",
       "      <td>False</td>\n",
       "      <td>0.850131</td>\n",
       "      <td>False</td>\n",
       "      <td>1</td>\n",
       "      <td>False</td>\n",
       "      <td>0.976886</td>\n",
       "      <td>False</td>\n",
       "      <td>0.571952</td>\n",
       "      <td>False</td>\n",
       "      <td>False</td>\n",
       "      <td>False</td>\n",
       "    </tr>\n",
       "    <tr>\n",
       "      <th>2</th>\n",
       "      <td>1.0</td>\n",
       "      <td>False</td>\n",
       "      <td>0.818548</td>\n",
       "      <td>False</td>\n",
       "      <td>0.852996</td>\n",
       "      <td>False</td>\n",
       "      <td>1</td>\n",
       "      <td>False</td>\n",
       "      <td>1.000000</td>\n",
       "      <td>False</td>\n",
       "      <td>0.532279</td>\n",
       "      <td>False</td>\n",
       "      <td>False</td>\n",
       "      <td>False</td>\n",
       "    </tr>\n",
       "    <tr>\n",
       "      <th>3</th>\n",
       "      <td>1.0</td>\n",
       "      <td>False</td>\n",
       "      <td>0.813629</td>\n",
       "      <td>False</td>\n",
       "      <td>0.844033</td>\n",
       "      <td>False</td>\n",
       "      <td>1</td>\n",
       "      <td>False</td>\n",
       "      <td>0.775992</td>\n",
       "      <td>False</td>\n",
       "      <td>0.401225</td>\n",
       "      <td>False</td>\n",
       "      <td>False</td>\n",
       "      <td>False</td>\n",
       "    </tr>\n",
       "    <tr>\n",
       "      <th>4</th>\n",
       "      <td>1.0</td>\n",
       "      <td>False</td>\n",
       "      <td>0.898399</td>\n",
       "      <td>False</td>\n",
       "      <td>0.958406</td>\n",
       "      <td>False</td>\n",
       "      <td>1</td>\n",
       "      <td>False</td>\n",
       "      <td>0.919564</td>\n",
       "      <td>False</td>\n",
       "      <td>0.503716</td>\n",
       "      <td>False</td>\n",
       "      <td>False</td>\n",
       "      <td>False</td>\n",
       "    </tr>\n",
       "    <tr>\n",
       "      <th>...</th>\n",
       "      <td>...</td>\n",
       "      <td>...</td>\n",
       "      <td>...</td>\n",
       "      <td>...</td>\n",
       "      <td>...</td>\n",
       "      <td>...</td>\n",
       "      <td>...</td>\n",
       "      <td>...</td>\n",
       "      <td>...</td>\n",
       "      <td>...</td>\n",
       "      <td>...</td>\n",
       "      <td>...</td>\n",
       "      <td>...</td>\n",
       "      <td>...</td>\n",
       "    </tr>\n",
       "    <tr>\n",
       "      <th>59995</th>\n",
       "      <td>1.0</td>\n",
       "      <td>False</td>\n",
       "      <td>0.860407</td>\n",
       "      <td>False</td>\n",
       "      <td>0.794629</td>\n",
       "      <td>False</td>\n",
       "      <td>1</td>\n",
       "      <td>False</td>\n",
       "      <td>0.996078</td>\n",
       "      <td>False</td>\n",
       "      <td>0.523458</td>\n",
       "      <td>False</td>\n",
       "      <td>False</td>\n",
       "      <td>False</td>\n",
       "    </tr>\n",
       "    <tr>\n",
       "      <th>59996</th>\n",
       "      <td>1.0</td>\n",
       "      <td>False</td>\n",
       "      <td>0.888932</td>\n",
       "      <td>False</td>\n",
       "      <td>0.939203</td>\n",
       "      <td>False</td>\n",
       "      <td>1</td>\n",
       "      <td>False</td>\n",
       "      <td>0.843293</td>\n",
       "      <td>False</td>\n",
       "      <td>0.498186</td>\n",
       "      <td>False</td>\n",
       "      <td>False</td>\n",
       "      <td>False</td>\n",
       "    </tr>\n",
       "    <tr>\n",
       "      <th>59997</th>\n",
       "      <td>1.0</td>\n",
       "      <td>False</td>\n",
       "      <td>0.818150</td>\n",
       "      <td>False</td>\n",
       "      <td>0.960275</td>\n",
       "      <td>False</td>\n",
       "      <td>1</td>\n",
       "      <td>False</td>\n",
       "      <td>0.865067</td>\n",
       "      <td>False</td>\n",
       "      <td>0.444907</td>\n",
       "      <td>False</td>\n",
       "      <td>False</td>\n",
       "      <td>False</td>\n",
       "    </tr>\n",
       "    <tr>\n",
       "      <th>59998</th>\n",
       "      <td>1.0</td>\n",
       "      <td>False</td>\n",
       "      <td>0.900018</td>\n",
       "      <td>False</td>\n",
       "      <td>0.892104</td>\n",
       "      <td>False</td>\n",
       "      <td>1</td>\n",
       "      <td>False</td>\n",
       "      <td>0.952069</td>\n",
       "      <td>False</td>\n",
       "      <td>0.528622</td>\n",
       "      <td>False</td>\n",
       "      <td>False</td>\n",
       "      <td>False</td>\n",
       "    </tr>\n",
       "    <tr>\n",
       "      <th>59999</th>\n",
       "      <td>1.0</td>\n",
       "      <td>False</td>\n",
       "      <td>0.858985</td>\n",
       "      <td>False</td>\n",
       "      <td>0.809504</td>\n",
       "      <td>False</td>\n",
       "      <td>1</td>\n",
       "      <td>False</td>\n",
       "      <td>0.932046</td>\n",
       "      <td>False</td>\n",
       "      <td>0.501550</td>\n",
       "      <td>False</td>\n",
       "      <td>False</td>\n",
       "      <td>False</td>\n",
       "    </tr>\n",
       "  </tbody>\n",
       "</table>\n",
       "<p>60000 rows × 14 columns</p>\n",
       "</div>"
      ],
      "text/plain": [
       "       odd_aspect_ratio_score  is_odd_aspect_ratio_issue   \n",
       "0                         1.0                      False  \\\n",
       "1                         1.0                      False   \n",
       "2                         1.0                      False   \n",
       "3                         1.0                      False   \n",
       "4                         1.0                      False   \n",
       "...                       ...                        ...   \n",
       "59995                     1.0                      False   \n",
       "59996                     1.0                      False   \n",
       "59997                     1.0                      False   \n",
       "59998                     1.0                      False   \n",
       "59999                     1.0                      False   \n",
       "\n",
       "       low_information_score  is_low_information_issue  light_score   \n",
       "0                   0.854301                     False     0.797130  \\\n",
       "1                   0.926223                     False     0.850131   \n",
       "2                   0.818548                     False     0.852996   \n",
       "3                   0.813629                     False     0.844033   \n",
       "4                   0.898399                     False     0.958406   \n",
       "...                      ...                       ...          ...   \n",
       "59995               0.860407                     False     0.794629   \n",
       "59996               0.888932                     False     0.939203   \n",
       "59997               0.818150                     False     0.960275   \n",
       "59998               0.900018                     False     0.892104   \n",
       "59999               0.858985                     False     0.809504   \n",
       "\n",
       "       is_light_issue  grayscale_score  is_grayscale_issue  dark_score   \n",
       "0               False                1               False    0.915605  \\\n",
       "1               False                1               False    0.976886   \n",
       "2               False                1               False    1.000000   \n",
       "3               False                1               False    0.775992   \n",
       "4               False                1               False    0.919564   \n",
       "...               ...              ...                 ...         ...   \n",
       "59995           False                1               False    0.996078   \n",
       "59996           False                1               False    0.843293   \n",
       "59997           False                1               False    0.865067   \n",
       "59998           False                1               False    0.952069   \n",
       "59999           False                1               False    0.932046   \n",
       "\n",
       "       is_dark_issue  blurry_score  is_blurry_issue   \n",
       "0              False      0.484206            False  \\\n",
       "1              False      0.571952            False   \n",
       "2              False      0.532279            False   \n",
       "3              False      0.401225            False   \n",
       "4              False      0.503716            False   \n",
       "...              ...           ...              ...   \n",
       "59995          False      0.523458            False   \n",
       "59996          False      0.498186            False   \n",
       "59997          False      0.444907            False   \n",
       "59998          False      0.528622            False   \n",
       "59999          False      0.501550            False   \n",
       "\n",
       "       is_exact_duplicates_issue  is_near_duplicates_issue  \n",
       "0                          False                     False  \n",
       "1                          False                     False  \n",
       "2                          False                     False  \n",
       "3                          False                     False  \n",
       "4                          False                     False  \n",
       "...                          ...                       ...  \n",
       "59995                      False                     False  \n",
       "59996                      False                     False  \n",
       "59997                      False                     False  \n",
       "59998                      False                     False  \n",
       "59999                      False                     False  \n",
       "\n",
       "[60000 rows x 14 columns]"
      ]
     },
     "execution_count": 10,
     "metadata": {},
     "output_type": "execute_result"
    }
   ],
   "source": [
    "imagelab.issues"
   ]
  },
  {
   "cell_type": "markdown",
   "id": "fcbdba22",
   "metadata": {},
   "source": [
    "Get indices of all **dark** images in the dataset sorted by their dark score."
   ]
  },
  {
   "cell_type": "code",
   "execution_count": 11,
   "id": "9b1df575",
   "metadata": {},
   "outputs": [],
   "source": [
    "indices = imagelab.issues.query('is_dark_issue').sort_values(by='dark_score').index.tolist()"
   ]
  },
  {
   "cell_type": "markdown",
   "id": "68d50f6c",
   "metadata": {},
   "source": [
    "View the 5th darkest image in the dataset"
   ]
  },
  {
   "cell_type": "code",
   "execution_count": 12,
   "id": "fcfc3389",
   "metadata": {},
   "outputs": [
    {
     "data": {
      "image/png": "[encoded data removed]",
      "text/plain": [
       "<PIL.Image.Image image mode=RGB size=32x32>"
      ]
     },
     "execution_count": 12,
     "metadata": {},
     "output_type": "execute_result"
    }
   ],
   "source": [
    "dataset[indices[5]][0]"
   ]
  },
  {
   "cell_type": "markdown",
   "id": "a8430529",
   "metadata": {},
   "source": [
    "View global information about each issue, such as how many images in the dataset suffer from this issue."
   ]
  },
  {
   "cell_type": "code",
   "execution_count": 13,
   "id": "38c37628",
   "metadata": {},
   "outputs": [
    {
     "data": {
      "text/html": [
       "<div>\n",
       "<style scoped>\n",
       "    .dataframe tbody tr th:only-of-type {\n",
       "        vertical-align: middle;\n",
       "    }\n",
       "\n",
       "    .dataframe tbody tr th {\n",
       "        vertical-align: top;\n",
       "    }\n",
       "\n",
       "    .dataframe thead th {\n",
       "        text-align: right;\n",
       "    }\n",
       "</style>\n",
       "<table border=\"1\" class=\"dataframe\">\n",
       "  <thead>\n",
       "    <tr style=\"text-align: right;\">\n",
       "      <th></th>\n",
       "      <th>issue_type</th>\n",
       "      <th>num_images</th>\n",
       "    </tr>\n",
       "  </thead>\n",
       "  <tbody>\n",
       "    <tr>\n",
       "      <th>0</th>\n",
       "      <td>near_duplicates</td>\n",
       "      <td>40</td>\n",
       "    </tr>\n",
       "    <tr>\n",
       "      <th>1</th>\n",
       "      <td>dark</td>\n",
       "      <td>29</td>\n",
       "    </tr>\n",
       "    <tr>\n",
       "      <th>2</th>\n",
       "      <td>light</td>\n",
       "      <td>3</td>\n",
       "    </tr>\n",
       "    <tr>\n",
       "      <th>3</th>\n",
       "      <td>low_information</td>\n",
       "      <td>1</td>\n",
       "    </tr>\n",
       "    <tr>\n",
       "      <th>4</th>\n",
       "      <td>blurry</td>\n",
       "      <td>0</td>\n",
       "    </tr>\n",
       "    <tr>\n",
       "      <th>5</th>\n",
       "      <td>grayscale</td>\n",
       "      <td>0</td>\n",
       "    </tr>\n",
       "    <tr>\n",
       "      <th>6</th>\n",
       "      <td>odd_aspect_ratio</td>\n",
       "      <td>0</td>\n",
       "    </tr>\n",
       "    <tr>\n",
       "      <th>7</th>\n",
       "      <td>exact_duplicates</td>\n",
       "      <td>0</td>\n",
       "    </tr>\n",
       "  </tbody>\n",
       "</table>\n",
       "</div>"
      ],
      "text/plain": [
       "         issue_type num_images\n",
       "0   near_duplicates         40\n",
       "1              dark         29\n",
       "2             light          3\n",
       "3   low_information          1\n",
       "4            blurry          0\n",
       "5         grayscale          0\n",
       "6  odd_aspect_ratio          0\n",
       "7  exact_duplicates          0"
      ]
     },
     "execution_count": 13,
     "metadata": {},
     "output_type": "execute_result"
    }
   ],
   "source": [
    "imagelab.issue_summary"
   ]
  },
  {
   "cell_type": "markdown",
   "id": "75912aea",
   "metadata": {},
   "source": [
    "**For more detailed guide on how to use CleanVision, check the [tutorial notebook](https://github.com/cleanlab/cleanvision/blob/main/docs/source/tutorials/tutorial.ipynb).**"
   ]
  }
 ],
 "metadata": {
  "kernelspec": {
   "display_name": "Python 3 (ipykernel)",
   "language": "python",
   "name": "python3"
  },
  "language_info": {
   "codemirror_mode": {
    "name": "ipython",
    "version": 3
   },
   "file_extension": ".py",
   "mimetype": "text/x-python",
   "name": "python",
   "nbconvert_exporter": "python",
   "pygments_lexer": "ipython3",
   "version": "3.11.0"
  }
 },
 "nbformat": 4,
 "nbformat_minor": 5
}
